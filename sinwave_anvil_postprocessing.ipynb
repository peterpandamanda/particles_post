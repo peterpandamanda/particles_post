{
 "metadata": {
  "name": ""
 },
 "nbformat": 3,
 "nbformat_minor": 0,
 "worksheets": [
  {
   "cells": [
    {
     "cell_type": "code",
     "collapsed": false,
     "input": [
      "%matplotlib inline\n",
      "import numpy as np\n",
      "import scipy.optimize\n",
      "import matplotlib.pyplot as plt"
     ],
     "language": "python",
     "metadata": {},
     "outputs": [],
     "prompt_number": 53
    },
    {
     "cell_type": "code",
     "collapsed": false,
     "input": [
      "%%bash\n",
      "exotxt Perturbation_textfile.h particle_his.txt\n",
      "sed 's/[0-9]-/E-/g' particle_his.txt > history.txt"
     ],
     "language": "python",
     "metadata": {},
     "outputs": [
      {
       "output_type": "stream",
       "stream": "stdout",
       "text": [
        "\n",
        "                           *** exotxt Version 1.21 ***\n",
        "                               Revised 2011/06/29                      \n",
        "\n",
        "                    EXODUSII DATABASE TO TEXT FILE TRANSLATOR\n",
        "\n",
        "                          Run on 2014-05-19 at 10:36:48\n",
        "\n",
        "               ==== Email gdsjaar@sandia.gov for support ====\n",
        "\n",
        "\n",
        " DATABASE INITIAL VARIABLES\n",
        "\n",
        " Peridigm\n",
        "\n",
        " Number of coordinates per node         =         3\n",
        " Number of nodes                        =         1\n",
        " Number of elements                     =         1\n",
        " Number of element blocks               =         1\n",
        "\n",
        " Number of node sets                    =         0\n",
        " Number of side sets                    =         0\n",
        "\n",
        " Number of global variables             =     42975\n",
        " Number of variables at each node       =         0\n",
        " Number of variables at each element    =         0\n",
        "\n",
        "\n",
        "       41 time steps on the input database\n",
        "       1 time steps processed\n",
        "       2 time steps processed\n",
        "       3 time steps processed\n",
        "       4 time steps processed\n",
        "       5 time steps processed\n",
        "       6 time steps processed\n",
        "       7 time steps processed\n",
        "       8 time steps processed\n",
        "       9 time steps processed\n",
        "      10 time steps processed\n",
        "      11 time steps processed\n",
        "      12 time steps processed\n",
        "      13 time steps processed\n",
        "      14 time steps processed\n",
        "      15 time steps processed\n",
        "      16 time steps processed\n",
        "      17 time steps processed\n",
        "      18 time steps processed\n",
        "      19 time steps processed\n",
        "      20 time steps processed\n",
        "      21 time steps processed\n",
        "      22 time steps processed\n",
        "      23 time steps processed\n",
        "      24 time steps processed\n",
        "      25 time steps processed\n",
        "      26 time steps processed\n",
        "      27 time steps processed\n",
        "      28 time steps processed\n",
        "      29 time steps processed\n",
        "      30 time steps processed\n",
        "      31 time steps processed\n",
        "      32 time steps processed\n",
        "      33 time steps processed\n",
        "      34 time steps processed\n",
        "      35 time steps processed\n",
        "      36 time steps processed\n",
        "      37 time steps processed\n",
        "      38 time steps processed\n",
        "      39 time steps processed\n",
        "      40 time steps processed\n",
        "      41 time steps processed\n",
        "\n",
        "    41 time steps have been written to the text file\n",
        "\n",
        " exotxt used 2.82 seconds of CPU time\n"
       ]
      }
     ],
     "prompt_number": 54
    },
    {
     "cell_type": "code",
     "collapsed": false,
     "input": [
      "run exoplot.py history.txt"
     ],
     "language": "python",
     "metadata": {},
     "outputs": [],
     "prompt_number": 55
    },
    {
     "cell_type": "code",
     "collapsed": false,
     "input": [
      "var_names"
     ],
     "language": "python",
     "metadata": {},
     "outputs": [
      {
       "metadata": {},
       "output_type": "pyout",
       "prompt_number": 56,
       "text": [
        "array(['VELOCITY_PARTICLE_1X', 'VELOCITY_PARTICLE_1Y',\n",
        "       'VELOCITY_PARTICLE_1Z', ..., 'MODEL_COORDINATES_PARTICLE_4775X',\n",
        "       'MODEL_COORDINATES_PARTICLE_4775Y',\n",
        "       'MODEL_COORDINATES_PARTICLE_4775Z'], \n",
        "      dtype='|S32')"
       ]
      }
     ],
     "prompt_number": 56
    },
    {
     "cell_type": "code",
     "collapsed": false,
     "input": [
      "num_particles = 4775\n",
      "\n",
      "y_velocities = np.array(data_vars)[1:3*num_particles:3]\n",
      "\n",
      "x_displacement = np.array(data_vars)[(3*num_particles):(3*num_particles)*2:3]\n",
      "y_displacement = np.array(data_vars)[(1+3*num_particles):(3*num_particles)*2:3]\n",
      "\n",
      "x_coordinates = data_vars[(3*num_particles)*2:(3*num_particles)*3:3]\n",
      "y_coordinates = data_vars[1+(3*num_particles)*2:(3*num_particles)*3:3]\n",
      "\n",
      "bool_array = y_velocities > 163.5e3\n",
      "first_movement_y = (bool_array.cumsum(axis=1).cumsum(axis=1) == 1)\n",
      "\n",
      "x_current = (x_coordinates + x_displacement).T\n",
      "y_current = (y_coordinates + y_displacement).T\n",
      "\n",
      "#Rows correspond to time step outputs: t1, t2, ..., tn\n",
      "#\n",
      "#Non -1, columns correspond to x,y current position at first movement\n",
      "x_current_first_movement = np.where(first_movement_y.T, x_current, -1)\n",
      "y_current_first_movement = np.where(first_movement_y.T, y_current, -1)\n",
      "\n",
      "x_postions_for_fit = [x_current_first_movement[i][x_current_first_movement[i] > 0] for i in range(len(time_steps))]\n",
      "y_postions_for_fit = [y_current_first_movement[i][y_current_first_movement[i] > 0] for i in range(len(time_steps))]\n",
      "\n",
      "\n"
     ],
     "language": "python",
     "metadata": {},
     "outputs": [],
     "prompt_number": 57
    },
    {
     "cell_type": "code",
     "collapsed": false,
     "input": [
      "# Notice that there is no movement for the first 5 timesteps.\n",
      "# When you try to fit those timesteps with scipy.optimize.curvefit it returns an error\n",
      "# (see next cell)\n",
      "\n",
      "x_postions_for_fit"
     ],
     "language": "python",
     "metadata": {},
     "outputs": [
      {
       "metadata": {},
       "output_type": "pyout",
       "prompt_number": 58,
       "text": [
        "[array([], dtype=float64),\n",
        " array([], dtype=float64),\n",
        " array([], dtype=float64),\n",
        " array([], dtype=float64),\n",
        " array([], dtype=float64),\n",
        " array([ 0.36965156,  1.58838581,  0.44984572,  1.50906435,  0.6894051 ,\n",
        "        1.98915322,  1.0891346 ]),\n",
        " array([ 0.44927461,  0.22945365,  0.24923196,  0.70924536,  1.34870583,\n",
        "        0.84919452,  1.9891589 ,  1.5888955 ,  0.36924004,  1.66851619,\n",
        "        0.52965724,  0.60927053,  0.02924649]),\n",
        " array([ 1.98916394,  1.94890824,  0.16925844,  1.34889755,  0.38963765,\n",
        "        0.72923516,  1.58916702,  0.26928666,  0.68993901,  1.66854958,\n",
        "        0.5294742 ,  0.1890198 ,  1.56854573,  0.92918137]),\n",
        " array([ 0.28931662,  0.24974179,  1.64779037,  0.92918053,  1.32864381,\n",
        "        0.38963198,  1.10913467,  0.18929002,  0.70974582,  1.88872218,\n",
        "        1.56827849,  0.369393  ,  0.44936285,  1.66914253,  1.98916218,\n",
        "        0.68924548,  0.84939991,  0.82969126]),\n",
        " array([ 1.34907203,  0.4095721 ,  1.5891045 ,  0.24918553,  1.04893999,\n",
        "        1.10921927,  1.40919103,  0.76976196,  1.88916231,  1.56917572,\n",
        "        0.38915344,  0.54947797,  0.18917261,  0.79031431,  0.63028077,\n",
        "        1.64839645,  0.68917101,  0.70919466,  0.14940469,  0.28924438,\n",
        "        0.36916714,  1.98916475]),\n",
        " array([ 0.68915656,  1.66902093,  1.3272798 ,  0.78926387,  0.38914932,\n",
        "        1.12850193,  0.9691932 ,  0.76935671,  1.56913915,  1.54843143,\n",
        "        1.88916439,  1.34912494,  0.00916283,  0.36915955,  1.64907678,\n",
        "        1.40900413,  1.62859785,  0.14929902,  0.92908654,  0.54993656]),\n",
        " array([ 1.88915973,  0.14913171,  1.96885334,  1.12918345,  1.54830461,\n",
        "        1.80908754,  0.96907145,  0.72967653,  1.34916058,  1.3292784 ,\n",
        "        0.78918101,  0.28934509,  1.74895415,  0.56963197,  0.47153959,\n",
        "        1.6691949 ,  0.00916522,  1.46812485,  0.12976801,  0.4102287 ,\n",
        "        0.76915371,  0.24927392,  1.64914732,  0.32935348,  1.62790991,\n",
        "        0.92921057,  1.54828367]),\n",
        " array([ 1.26892107,  0.10927044,  1.12916545,  0.57015159,  0.12923586,\n",
        "        1.96929982,  0.36925785,  1.52853579,  0.43000115,  0.54961833,\n",
        "        0.34948948,  0.38923195,  1.82892544,  1.56917246,  1.46870724,\n",
        "        1.88915109,  0.3098216 ,  1.06910328,  0.0494408 ,  0.28926332,\n",
        "        0.32960773,  0.68914093,  1.66916025,  0.92917279,  0.14915834,\n",
        "        0.2491691 ]),\n",
        " array([ 0.78917924,  1.46595106,  1.06919114,  1.5275071 ,  1.08910474,\n",
        "        0.24917093,  0.88953448,  1.80884491,  1.24889794,  1.20896914,\n",
        "        1.62899583,  0.32919634,  0.9493419 ,  0.12909635,  0.76932102,\n",
        "        0.4300549 ,  1.56917046,  1.60875166,  0.92913747,  1.34916283,\n",
        "        1.54882594,  0.14914151,  0.68914382,  1.88915541,  0.42968741,\n",
        "        0.28919798,  1.32912644,  0.54910495,  0.04908225,  1.30762183,\n",
        "        0.36916092]),\n",
        " array([ 0.92916287,  0.10902078,  0.78915438,  1.56916231,  1.92621529,\n",
        "        1.5283648 ,  1.02912073,  1.24894173,  1.12919136,  0.89025927,\n",
        "        1.66910347,  1.8290594 ,  0.58955806,  0.58945344,  0.22954594,\n",
        "        1.68882866,  0.76913019,  0.28916635,  0.12919822,  1.0890831 ,\n",
        "        0.95047523,  1.62806103,  1.44827097,  1.36863528,  0.32937593,\n",
        "        0.14915069]),\n",
        " array([ 0.92915719,  1.8891547 ,  1.4468262 ,  0.17055314,  0.9891343 ,\n",
        "        1.08918215,  0.08968378,  1.2089953 ,  1.2491467 ,  1.56915888,\n",
        "        1.04923718,  1.90843962,  1.54921065,  0.54916055,  0.59205362,\n",
        "        0.42937529,  1.46914777,  0.10912627,  0.12915162,  1.12915434,\n",
        "        0.76918405]),\n",
        " array([ 0.42920784,  1.56916688,  0.14918139,  0.94913481,  0.75270915,\n",
        "        1.44779469,  0.12915009,  1.08917157,  1.42839212,  0.52910282,\n",
        "        0.28917612,  0.21523041,  1.86532009,  1.12913868,  0.84903108,\n",
        "        0.08907005,  1.04913   ,  0.10916965,  0.78912891,  1.88914077,\n",
        "        1.50665965,  1.62909434,  0.81125896,  0.32911243,  1.20912891,\n",
        "        0.98915137]),\n",
        " array([ 0.28915998,  1.98931408,  0.81830245,  1.10935254,  0.20951351,\n",
        "        0.52919608,  1.88915338,  1.42707817,  0.4699559 ,  1.84826203,\n",
        "        0.91014582,  0.84913286,  1.52367991,  1.24910357,  0.61130289,\n",
        "        1.12917497,  0.78916376,  1.08917074,  0.87545837,  0.94918105,\n",
        "        1.62904386,  0.10915842,  0.70922348,  0.02885495,  0.00909421,\n",
        "        0.12914561,  0.35168137,  0.92915789,  1.04913518]),\n",
        " array([ 0.61125952,  1.10912084,  1.24915743,  0.61121896,  1.48780111,\n",
        "        1.62915386,  0.42923548,  1.04918983,  1.38711289,  1.5057742 ,\n",
        "        0.87162028,  0.1291526 ,  0.10916384,  0.00915877,  1.48728359,\n",
        "        0.45381607,  1.88919138,  0.02917827,  1.12915226,  1.96917449,\n",
        "        0.20924266,  0.46933872,  0.34922253,  0.80961955,  0.94945257,\n",
        "        0.32914204,  0.18946042,  0.92918562,  1.98914029]),\n",
        " array([ 1.44446232,  0.9686223 ,  0.1891557 ,  1.40732515,  0.87146768,\n",
        "        1.10917045,  1.00915288,  0.80984829,  0.4101167 ,  1.5030082 ,\n",
        "        0.1291569 ,  0.58916289,  0.02909495,  0.52961669,  0.84923725,\n",
        "        0.32917616,  0.28913876,  1.74886618,  0.90873141,  1.9691332 ,\n",
        "        0.00917139,  0.16976091,  1.08916865,  0.07371115,  0.42916007,\n",
        "        0.44962389,  1.94928484,  1.88916819,  0.06941868]),\n",
        " array([ 0.6306206 ,  1.24922546,  0.52917883,  0.20924152,  0.28915389,\n",
        "        1.58803518,  0.57024029,  1.76889503,  0.62859437,  1.08916452,\n",
        "        0.75088802,  0.86955153,  0.8491627 ,  1.18752743,  0.16927154,\n",
        "        1.94913762,  0.18916191,  1.74915257,  1.38896215,  0.34910257,\n",
        "        0.9691823 ,  0.48989382,  1.01090827,  1.26919605]),\n",
        " array([ 0.44919992,  0.5891914 ,  0.86921631,  1.9687987 ,  1.88917689,\n",
        "        0.40937507,  1.14865393,  0.20915291,  0.80947138,  0.16918927,\n",
        "        1.24914323,  1.80969822,  0.42909237,  0.06877975,  0.653638  ,\n",
        "        0.96916401,  1.94915314,  1.1091227 ,  0.49835934,  1.0690698 ,\n",
        "        1.30882213,  0.00919384,  0.32916456,  1.00912896,  1.44916291,\n",
        "        1.48398681,  1.64916915]),\n",
        " array([ 0.06914695,  0.18918895,  0.6500256 ,  0.47916692,  0.00915487,\n",
        "        1.70904449,  0.50977492,  1.32932292,  0.2891984 ,  1.72628011,\n",
        "        0.86918416,  0.42916926,  1.00917284,  0.89063238,  1.15054624,\n",
        "        1.2864582 ,  1.16889955,  0.63466989,  0.20915926,  1.48614305,\n",
        "        1.60911374,  0.52917069,  1.58908998,  0.35454383,  1.26760043,\n",
        "        1.18866963,  1.74911225,  1.24916814,  0.5694983 ,  0.24920797]),\n",
        " array([ 0.28917554,  0.68893496,  1.30868794,  1.41766085,  0.18916809,\n",
        "        1.7491515 ,  0.65251485,  0.44918715,  1.15052948,  1.00916146,\n",
        "        0.32921568,  0.86914332,  1.94920123,  0.9691424 ,  1.18037963,\n",
        "        0.51544994,  0.52915815,  1.52623121,  0.06909826,  0.16917131,\n",
        "        1.44881789,  0.98922626,  0.80922913,  0.00917571,  0.36916812,\n",
        "        0.75875942,  1.7088827 ]),\n",
        " array([ 0.31847787,  0.66926088,  1.74915827,  1.1491633 ,  0.76923582,\n",
        "        0.42917702,  1.22900402,  0.56920165,  0.88928288,  0.68916012,\n",
        "        0.44915592,  1.58909741,  1.60911807,  1.28116551,  1.44908854,\n",
        "        0.65281416,  1.36387599,  1.28868449,  1.94917026,  1.16821963,\n",
        "        0.1691532 ,  0.32917745,  0.20917596,  0.96918652,  0.24926471,\n",
        "        1.24913073]),\n",
        " array([ 1.44639221,  0.86916855,  0.59161555,  1.24913592,  1.56917983,\n",
        "        1.20877304,  0.67169481,  1.36704831,  0.24917187,  1.4487673 ,\n",
        "        1.68889676,  0.20916598,  0.96916201,  0.98913501,  0.42918364,\n",
        "        0.1091578 ,  0.28920803,  0.63743674,  0.56919735,  0.67125317,\n",
        "        0.08958735,  1.58917782,  0.36914926,  0.00918898,  1.84771238,\n",
        "        0.83190203]),\n",
        " array([ 0.36918469,  1.4659961 ,  1.54851994,  0.60912007,  0.76926743,\n",
        "        1.74913647,  0.14904084,  0.83071433,  1.5691456 ,  0.4491613 ,\n",
        "        0.32916684,  1.24915794,  1.36876729,  1.20916854,  1.16863186,\n",
        "        1.46111371,  0.86914377,  0.92914551,  0.27036328,  0.98919311,\n",
        "        1.14930919,  1.28910364,  0.04960505,  0.67135975,  0.30874221,\n",
        "        1.86879436,  0.68917317,  1.84911758,  0.00915177,  0.51435175,\n",
        "        1.98888622,  0.16915492,  1.60210796,  1.1291691 ]),\n",
        " array([ 0.16917177,  0.24912011,  0.49751828,  0.36917075,  1.40825914,\n",
        "        1.91329012,  0.65332199,  0.86915853,  1.28914332,  0.20917518,\n",
        "        0.44916625,  1.98915238,  1.46375997,  0.76916592,  0.98916487,\n",
        "        0.10915994,  1.14916959,  1.84920278,  0.42920288,  1.74915148,\n",
        "        1.58915046,  0.92916409,  0.04914845,  1.12916887]),\n",
        " array([ 1.41997722,  0.42914211,  0.94923058,  0.86917802,  1.1689168 ,\n",
        "        1.93049656,  1.36911602,  0.60917991,  1.91071436,  0.92913836,\n",
        "        0.67164388,  0.82924562,  1.24915159,  0.029314  ,  1.18983863,\n",
        "        1.84916364,  1.04923302,  1.62908754,  1.8689578 ,  0.5129336 ,\n",
        "        1.12913969]),\n",
        " array([ 1.5042054 ,  1.88919505,  0.42916011,  1.26276156,  0.86915365,\n",
        "        1.58917062,  1.18913096,  1.12916988,  1.28918142,  0.76916346,\n",
        "        0.36919211,  0.16922533,  0.98914207,  1.42706794,  1.24920402,\n",
        "        0.61193648,  0.609148  ,  1.14920448,  0.73764989,  1.92931844,\n",
        "        1.16912183,  0.31043624,  1.98912698,  0.94924761,  1.76894512,\n",
        "        0.40969623,  1.08914347,  0.04920969,  1.74917211,  0.02916917,\n",
        "        1.0491481 ,  1.30932556,  0.44913956]),\n",
        " array([ 0.51665225,  0.75336688,  1.40862262,  0.76915259,  0.23164605,\n",
        "        0.36913984,  1.88913821,  1.72892285,  1.68845174,  0.98917171,\n",
        "        1.14916057,  1.00929523,  1.50219662,  1.24917178,  1.04915588,\n",
        "        0.49365672,  1.74915456,  1.8491677 ,  0.04917229,  1.0269999 ,\n",
        "        0.27970702,  1.36917974,  0.38933857,  1.28672584,  0.61206452,\n",
        "        0.67410421,  0.9491709 ]),\n",
        " array([ 0.42918996,  1.74917266,  0.49025608,  0.86919702,  1.84915835,\n",
        "        0.73066211,  0.08886634,  0.40958446,  0.44914746,  1.28916957,\n",
        "        1.76610434,  1.18908776,  1.00916428,  1.02860833,  1.92779712,\n",
        "        0.47400523,  1.0693826 ,  0.78912487,  1.14914032,  0.84901815,\n",
        "        1.08912284,  0.02916347,  1.88915641]),\n",
        " array([ 0.84916792,  1.0491593 ,  1.48307678,  0.86915813,  0.47060666,\n",
        "        0.44919069,  1.06827202,  1.02916304,  1.48221341,  1.00914094,\n",
        "        0.51006441,  1.40122544,  0.76918548,  1.28916554,  1.58915549,\n",
        "        1.10901798,  1.78186489,  1.08916784,  1.47884481,  1.32878498,\n",
        "        1.02924212,  1.78919985,  1.14916107,  0.42914955]),\n",
        " array([ 0.06931227,  1.10836614,  0.48914887,  0.50160356,  1.08917983,\n",
        "        0.48915844,  1.06891548,  1.84917089,  1.78848509,  1.04914872,\n",
        "        0.50682968,  1.88919143,  1.76907155,  0.02916311,  0.12909744,\n",
        "        1.34913683,  1.96910889,  0.76917401,  0.78903208,  1.36603178,\n",
        "        1.18910193,  1.69253526,  1.18919223]),\n",
        " array([ 0.84917343,  0.78914967,  0.47379546,  0.14904137,  1.90921184,\n",
        "        1.58915284,  1.84913871,  0.82961806,  1.00920568,  1.70306348,\n",
        "        0.59118169,  1.94921223,  1.04916218,  1.32912584,  1.02917371,\n",
        "        1.58941171,  1.14915255,  1.82462503,  1.18915946,  1.88917008]),\n",
        " array([ 1.38263282,  1.46276578,  1.90919661,  0.56923603,  0.76915527,\n",
        "        1.50773783,  0.63687688,  1.34908885,  1.10855948,  1.31059521,\n",
        "        0.46956833,  0.96923238,  1.32917046,  0.08965146,  0.90718743,\n",
        "        1.18916309,  1.96911933,  0.40896188,  0.23541582,  0.23042373,\n",
        "        1.88914945,  1.64878048,  0.35157958,  1.94916113,  0.18928497,\n",
        "        1.06911541,  1.52807988,  1.14916672,  1.56918982,  0.58947772,\n",
        "        0.06919326]),\n",
        " array([ 0.40914911,  1.58917017,  0.55772495,  1.06916453,  1.80885782,\n",
        "        0.08924818,  1.04922375,  1.88916182,  1.82951808,  1.34804265,\n",
        "        0.14910175,  0.92918425,  0.84916532,  1.50977338,  1.66905911,\n",
        "        0.06916209,  0.72951055,  1.26896224,  1.44799909,  0.78919159,\n",
        "        1.3817112 ,  0.00914001,  1.48850948,  1.92942592,  1.46898402,\n",
        "        0.89327915]),\n",
        " array([ 0.58908784,  0.40927728,  1.30895653,  0.14916724,  0.78915625,\n",
        "        1.90920436,  0.7691849 ,  1.1891445 ,  1.58916909,  1.04915849,\n",
        "        0.96926371,  1.20854255,  1.78916257,  1.32918354,  1.12916767,\n",
        "        1.70958095,  0.6536389 ,  0.10944871,  0.8491637 ,  0.00916479,\n",
        "        1.5487589 ,  1.56915736,  1.42759935,  0.28928909]),\n",
        " array([ 1.46954195,  0.06918264,  1.32916444,  1.04917025,  1.6691598 ,\n",
        "        1.92369019,  1.88917232,  1.3488303 ,  1.56915495,  0.92928429,\n",
        "        0.35401842,  1.86902558,  1.50793802,  0.28915914,  0.76919135,\n",
        "        0.58927381,  1.18918863,  0.10919013,  1.22486995,  1.82638912,\n",
        "        0.9691625 ,  1.06915927,  0.40912675,  1.78344043,  0.55075269]),\n",
        " array([ 1.18915662,  1.78915354,  0.149115  ,  0.92915056,  1.509187  ,\n",
        "        1.78767619,  0.58916474,  0.27679412,  1.8679677 ,  1.64869894,\n",
        "        0.06916353,  1.41987987,  0.52914512,  1.20669164,  1.72678364,\n",
        "        1.72274028,  1.88916087,  1.41881891,  1.26370118,  0.20920531,\n",
        "        0.00920137,  0.8491739 ,  0.40918782]),\n",
        " array([ 0.10915589,  0.14917399,  0.28913863,  1.22381492,  1.32916599,\n",
        "        0.34965925,  0.68918888,  1.78916285,  1.46918762,  1.06920549,\n",
        "        0.27087094,  1.04925035,  1.54464947,  1.41896158,  1.56919154,\n",
        "        0.96916695,  0.76917427,  1.88914623,  1.66919217,  0.24893091,\n",
        "        0.53036307])]"
       ]
      }
     ],
     "prompt_number": 58
    },
    {
     "cell_type": "code",
     "collapsed": false,
     "input": [
      "def my_sine(x,a,b,c):\n",
      "    return a*np.sin(b*x + np.arcsin(1.0))+c\n",
      "\n",
      "#ans, err = (scipy.optimize.curve_fit(my_sine, x_postions_for_fit[i], y_postions_for_fit[i]) for i in range(len(time_steps)))\n",
      "\n",
      "# N is the number of data points\n",
      "# M is the number of parameters\n",
      "# M > N ...which returns an error for the first 5 timesteps\n",
      "\n",
      "ans6, err6 = scipy.optimize.curve_fit(my_sine, x_postions_for_fit[6], y_postions_for_fit[6],p0=[0.25,np.pi,0.25])\n",
      "ans6"
     ],
     "language": "python",
     "metadata": {},
     "outputs": [
      {
       "metadata": {},
       "output_type": "pyout",
       "prompt_number": 59,
       "text": [
        "array([ 0.25342467,  3.1476235 ,  0.27979432])"
       ]
      }
     ],
     "prompt_number": 59
    },
    {
     "cell_type": "code",
     "collapsed": false,
     "input": [
      "# For some reason these didn't work if they were all in the same cell. \n",
      "# Sorry for the messy appearance.\n",
      "ans7, err7 = scipy.optimize.curve_fit(my_sine, x_postions_for_fit[7], y_postions_for_fit[7],p0=[0.25,np.pi,0.25])"
     ],
     "language": "python",
     "metadata": {},
     "outputs": [],
     "prompt_number": 60
    },
    {
     "cell_type": "code",
     "collapsed": false,
     "input": [
      "ans8, err8 = scipy.optimize.curve_fit(my_sine, x_postions_for_fit[8], y_postions_for_fit[8],p0=[0.25,np.pi,0.25])"
     ],
     "language": "python",
     "metadata": {},
     "outputs": [],
     "prompt_number": 61
    },
    {
     "cell_type": "code",
     "collapsed": false,
     "input": [
      "ans9, err9 = scipy.optimize.curve_fit(my_sine, x_postions_for_fit[9], y_postions_for_fit[9],p0=[0.25,np.pi,0.25])"
     ],
     "language": "python",
     "metadata": {},
     "outputs": [],
     "prompt_number": 62
    },
    {
     "cell_type": "code",
     "collapsed": false,
     "input": [
      "ans10, err10 = scipy.optimize.curve_fit(my_sine, x_postions_for_fit[10], y_postions_for_fit[10],p0=[0.25,np.pi,0.25])"
     ],
     "language": "python",
     "metadata": {},
     "outputs": [],
     "prompt_number": 63
    },
    {
     "cell_type": "code",
     "collapsed": false,
     "input": [
      "x=np.arange(0,5,0.1)\n",
      "time6curve = my_sine(x,ans6[0],ans6[1],ans6[2])\n",
      "time7curve = my_sine(x,ans7[0],ans7[1],ans7[2])\n",
      "time8curve = my_sine(x,ans8[0],ans8[1],ans8[2])\n",
      "time9curve = my_sine(x,ans9[0],ans9[1],ans9[2])\n",
      "time10curve = my_sine(x,ans10[0],ans10[1],ans10[2])\n",
      "# I honestly don't have any idea why the ranges I selected work, \n",
      "# but I checked and they pull out the correct value. I'm sure there\n",
      "# is a better way to do it."
     ],
     "language": "python",
     "metadata": {},
     "outputs": [],
     "prompt_number": 64
    },
    {
     "cell_type": "code",
     "collapsed": false,
     "input": [
      "plt.plot(x, time6curve,'m', label='time step 6');\n",
      "plt.plot(x, time7curve,'r', label='time step 7');\n",
      "plt.plot(x, time8curve,'y', label='time step 8');\n",
      "plt.plot(x, time9curve,'g', label='time step 9');\n",
      "plt.plot(x, time10curve,'b', label='time step 10');\n",
      "\n",
      "\n",
      "plt.axis([0, np.pi/4, 0.0, 1.0])\n",
      "plt.xlabel('x in mm')\n",
      "plt.ylabel('y in mm')\n",
      "plt.legend(loc='upper right')\n",
      "plt.title('curve fit at outputs 6 through 10');\n",
      "\n",
      "# The curves don't appear to be in the correct order at all. Maybe because the fit is moving\n",
      "# forward with the increasing y position of the particles first movement? Or maybe\n",
      "# because at the height of the curve there are more pronounced force chains that are\n",
      "# throwing off the fit? ...Or maybe I just plotted it wrong :/"
     ],
     "language": "python",
     "metadata": {},
     "outputs": [
      {
       "metadata": {},
       "output_type": "pyout",
       "prompt_number": 67,
       "text": [
        "<matplotlib.text.Text at 0x11f8a3450>"
       ]
      },
      {
       "metadata": {},
       "output_type": "display_data",
       "png": "[encoded data removed]",
       "text": [
        "<matplotlib.figure.Figure at 0x11f7744d0>"
       ]
      }
     ],
     "prompt_number": 67
    },
    {
     "cell_type": "code",
     "collapsed": false,
     "input": [
      "ans15, err15 = scipy.optimize.curve_fit(my_sine, x_postions_for_fit[15], y_postions_for_fit[15],p0=[0.25,np.pi,0.25])"
     ],
     "language": "python",
     "metadata": {},
     "outputs": [
      {
       "ename": "SyntaxError",
       "evalue": "invalid syntax (<ipython-input-66-083d3e7fca40>, line 1)",
       "output_type": "pyerr",
       "traceback": [
        "\u001b[0;36m  File \u001b[0;32m\"<ipython-input-66-083d3e7fca40>\"\u001b[0;36m, line \u001b[0;32m1\u001b[0m\n\u001b[0;31m    ans15, err15 = scipy.optimize.curve_fit(my_sine, x_postions_for_fit[15], y_postions_for_fit[15],p0=[)\u001b[0m\n\u001b[0m                                                                                                        ^\u001b[0m\n\u001b[0;31mSyntaxError\u001b[0m\u001b[0;31m:\u001b[0m invalid syntax\n"
       ]
      }
     ],
     "prompt_number": 66
    },
    {
     "cell_type": "code",
     "collapsed": false,
     "input": [
      "ans20, err20 = scipy.optimize.curve_fit(my_sine, x_postions_for_fit[20], y_postions_for_fit[20])"
     ],
     "language": "python",
     "metadata": {},
     "outputs": []
    },
    {
     "cell_type": "code",
     "collapsed": false,
     "input": [
      "ans25, err25 = scipy.optimize.curve_fit(my_sine, x_postions_for_fit[25], y_postions_for_fit[25])"
     ],
     "language": "python",
     "metadata": {},
     "outputs": []
    },
    {
     "cell_type": "code",
     "collapsed": false,
     "input": [
      "ans30, err30 = scipy.optimize.curve_fit(my_sine, x_postions_for_fit[30], y_postions_for_fit[30])"
     ],
     "language": "python",
     "metadata": {},
     "outputs": []
    },
    {
     "cell_type": "code",
     "collapsed": false,
     "input": [
      "ans35, err35 = scipy.optimize.curve_fit(my_sine, x_postions_for_fit[35], y_postions_for_fit[35])"
     ],
     "language": "python",
     "metadata": {},
     "outputs": []
    },
    {
     "cell_type": "code",
     "collapsed": false,
     "input": [
      "time15curve = ans15[0:1]*np.sin(ans15[1:2]*x)+ans15[2:]\n",
      "time20curve = ans20[0:1]*np.sin(ans20[1:2]*x)+ans20[2:]\n",
      "time25curve = ans25[0:1]*np.sin(ans25[1:2]*x)+ans25[2:]\n",
      "time30curve = ans30[0:1]*np.sin(ans30[1:2]*x)+ans30[2:]\n",
      "time35curve = ans35[0:1]*np.sin(ans35[1:2]*x)+ans35[2:]"
     ],
     "language": "python",
     "metadata": {},
     "outputs": []
    },
    {
     "cell_type": "code",
     "collapsed": false,
     "input": [
      "# I spread the timesteps out so you can see what happens better.\n",
      "plt.plot(x, time10curve,'m', label='time step 10');\n",
      "plt.plot(x, time15curve,'r', label='time step 15');\n",
      "plt.plot(x, time20curve,'y', label='time step 20');\n",
      "plt.plot(x, time25curve,'g', label='time step 25');\n",
      "plt.plot(x, time30curve,'b', label='time step 30');\n",
      "plt.plot(x, time35curve,'k', label='time step 35');\n",
      "\n",
      "\n",
      "plt.axis([0, 0.5, 0.2, 1.0])\n",
      "plt.xlabel('x in mm')\n",
      "plt.ylabel('amplitude')\n",
      "plt.legend(loc='upper right')\n",
      "plt.title('curve fit at outputs 10 through 30');"
     ],
     "language": "python",
     "metadata": {},
     "outputs": []
    },
    {
     "cell_type": "code",
     "collapsed": false,
     "input": [
      "##### End current work #####\n",
      "\n",
      "#filter\n",
      "\n",
      "filter_frequency = 13e6;\n",
      "filter_input = filter_frequency*2*h6time[1];\n",
      "b, a = signal.butter(4, filter_input, 'lowpass') \n",
      "\n",
      "h6mm_V7_1X_filtered = signal.filtfilt(b, a, h6mm_V7_1X)\n",
      "h6mm_V7_3X_filtered = signal.filtfilt(b, a, h6mm_V7_3X)\n",
      "h6mm_V7_5X_filtered = signal.filtfilt(b, a, h6mm_V7_5X)\n",
      "h6mm_V7_7X_filtered = signal.filtfilt(b, a, h6mm_V7_7X)\n",
      "h6mm_V7_9X_filtered = signal.filtfilt(b, a, h6mm_V7_9X)\n",
      "\n",
      "h6mm_V10_1X_filtered = signal.filtfilt(b, a, h6mm_V10_1X)\n",
      "h6mm_V10_3X_filtered = signal.filtfilt(b, a, h6mm_V10_3X)\n",
      "h6mm_V10_5X_filtered = signal.filtfilt(b, a, h6mm_V10_5X)\n",
      "h6mm_V10_7X_filtered = signal.filtfilt(b, a, h6mm_V10_7X)\n",
      "h6mm_V10_9X_filtered = signal.filtfilt(b, a, h6mm_V10_9X)\n",
      "\n",
      "h6mm_V12_1X_filtered = signal.filtfilt(b, a, h6mm_V12_1X)\n",
      "h6mm_V12_3X_filtered = signal.filtfilt(b, a, h6mm_V12_3X)\n",
      "h6mm_V12_5X_filtered = signal.filtfilt(b, a, h6mm_V12_5X)\n",
      "h6mm_V12_7X_filtered = signal.filtfilt(b, a, h6mm_V12_7X)\n",
      "h6mm_V12_9X_filtered = signal.filtfilt(b, a, h6mm_V12_9X)\n"
     ],
     "language": "python",
     "metadata": {},
     "outputs": []
    },
    {
     "cell_type": "code",
     "collapsed": false,
     "input": [
      "plt.plot(h6time_steps,h6mm_V7_1X_filtered, label='y=0.75 x# 1');\n",
      "plt.plot(h6time_steps,h6mm_V7_3X_filtered, label='0.75 2');    \n",
      "plt.plot(h6time_steps,h6mm_V7_5X_filtered, label='0.75 3');\n",
      "plt.plot(h6time_steps,h6mm_V7_7X_filtered, label='0.75 4');\n",
      "plt.plot(h6time_steps,h6mm_V7_9X_filtered, label='0.75 5');\n",
      "\n",
      "plt.plot(h6time_steps,h6mm_V10_1X_filtered, label='1.0 1');\n",
      "plt.plot(h6time_steps,h6mm_V10_3X_filtered, label='1.0 2');    \n",
      "plt.plot(h6time_steps,h6mm_V10_5X_filtered, label='1.0 3');\n",
      "plt.plot(h6time_steps,h6mm_V10_7X_filtered, label='1.0 4');\n",
      "plt.plot(h6time_steps,h6mm_V10_9X_filtered, label='1.0 5');\n",
      "\n",
      "plt.plot(h6time_steps,h6mm_V12_1X_filtered, label='1.25 1');\n",
      "plt.plot(h6time_steps,h6mm_V12_3X_filtered, label='1.25 2');    \n",
      "plt.plot(h6time_steps,h6mm_V12_5X_filtered, label='1.25 3');\n",
      "plt.plot(h6time_steps,h6mm_V12_7X_filtered, label='1.25 4');\n",
      "plt.plot(h6time_steps,h6mm_V12_9X_filtered, label='1.25 5');\n",
      "\n",
      "plt.axis([0, 1.0, -50000, 250000])\n",
      "plt.xlabel('Time (us)')\n",
      "plt.ylabel('Velocity (mm/s)')\n",
      "#plt.legend(loc='upper left')\n",
      "plt.title('6mm00 x-vel vs time, nodes at center and back');"
     ],
     "language": "python",
     "metadata": {},
     "outputs": []
    },
    {
     "cell_type": "code",
     "collapsed": false,
     "input": [
      "time1=time_steps[h6mm_VB0X > 0.002][0]\n",
      "time2=time_steps[h6mm_VM0X > 0.002][0]"
     ],
     "language": "python",
     "metadata": {},
     "outputs": []
    },
    {
     "cell_type": "code",
     "collapsed": false,
     "input": [
      "wave_speed = 0.0016/(time1-time2)\n",
      "wave_speed"
     ],
     "language": "python",
     "metadata": {},
     "outputs": []
    },
    {
     "cell_type": "code",
     "collapsed": false,
     "input": [
      "np.all?"
     ],
     "language": "python",
     "metadata": {},
     "outputs": []
    },
    {
     "cell_type": "code",
     "collapsed": false,
     "input": [],
     "language": "python",
     "metadata": {},
     "outputs": []
    }
   ],
   "metadata": {}
  }
 ]
}