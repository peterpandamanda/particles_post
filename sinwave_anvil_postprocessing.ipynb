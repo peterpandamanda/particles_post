{
 "metadata": {
  "name": ""
 },
 "nbformat": 3,
 "nbformat_minor": 0,
 "worksheets": [
  {
   "cells": [
    {
     "cell_type": "code",
     "collapsed": false,
     "input": [
      "%matplotlib inline\n",
      "import numpy as np\n",
      "import scipy.optimize\n",
      "import matplotlib.pyplot as plt\n",
      "from scipy import signal"
     ],
     "language": "python",
     "metadata": {},
     "outputs": []
    },
    {
     "cell_type": "code",
     "collapsed": false,
     "input": [
      "%%bash\n",
      "exotxt Perturbation_textfile_6n_300f.h particle_his.txt;\n",
      "sed 's/[0-9]-/E-/g' particle_his.txt > history.txt"
     ],
     "language": "python",
     "metadata": {},
     "outputs": []
    },
    {
     "cell_type": "code",
     "collapsed": false,
     "input": [
      "run exoplot.py history.txt"
     ],
     "language": "python",
     "metadata": {},
     "outputs": [
      {
       "ename": "ValueError",
       "evalue": "invalid literal for int() with base 10: '1.21'",
       "output_type": "pyerr",
       "traceback": [
        "\u001b[0;31m---------------------------------------------------------------------------\u001b[0m\n\u001b[0;31mValueError\u001b[0m                                Traceback (most recent call last)",
        "\u001b[0;32m/usr/local/lib/python2.7/site-packages/IPython/utils/py3compat.pyc\u001b[0m in \u001b[0;36mexecfile\u001b[0;34m(fname, *where)\u001b[0m\n\u001b[1;32m    202\u001b[0m             \u001b[0;32melse\u001b[0m\u001b[0;34m:\u001b[0m\u001b[0;34m\u001b[0m\u001b[0m\n\u001b[1;32m    203\u001b[0m                 \u001b[0mfilename\u001b[0m \u001b[0;34m=\u001b[0m \u001b[0mfname\u001b[0m\u001b[0;34m\u001b[0m\u001b[0m\n\u001b[0;32m--> 204\u001b[0;31m             \u001b[0m__builtin__\u001b[0m\u001b[0;34m.\u001b[0m\u001b[0mexecfile\u001b[0m\u001b[0;34m(\u001b[0m\u001b[0mfilename\u001b[0m\u001b[0;34m,\u001b[0m \u001b[0;34m*\u001b[0m\u001b[0mwhere\u001b[0m\u001b[0;34m)\u001b[0m\u001b[0;34m\u001b[0m\u001b[0m\n\u001b[0m",
        "\u001b[0;32m/Users/vny782/Desktop/particles2/6-9-glory/6n-200f/exoplot.py\u001b[0m in \u001b[0;36m<module>\u001b[0;34m()\u001b[0m\n\u001b[1;32m     18\u001b[0m     \u001b[0mdata\u001b[0m \u001b[0;34m=\u001b[0m \u001b[0;34m[\u001b[0m \u001b[0mline\u001b[0m\u001b[0;34m.\u001b[0m\u001b[0mrstrip\u001b[0m\u001b[0;34m(\u001b[0m\u001b[0;34m)\u001b[0m \u001b[0;32mfor\u001b[0m \u001b[0mline\u001b[0m \u001b[0;32min\u001b[0m \u001b[0mf\u001b[0m \u001b[0;32mif\u001b[0m \u001b[0;34m(\u001b[0m\u001b[0mline\u001b[0m\u001b[0;34m[\u001b[0m\u001b[0;36m0\u001b[0m\u001b[0;34m]\u001b[0m \u001b[0;34m!=\u001b[0m \u001b[0;34m'!'\u001b[0m \u001b[0;32mand\u001b[0m \u001b[0mline\u001b[0m \u001b[0;34m!=\u001b[0m \u001b[0;34m'\\n'\u001b[0m\u001b[0;34m)\u001b[0m\u001b[0;34m]\u001b[0m\u001b[0;34m\u001b[0m\u001b[0m\n\u001b[1;32m     19\u001b[0m \u001b[0;34m\u001b[0m\u001b[0m\n\u001b[0;32m---> 20\u001b[0;31m \u001b[0mnum_vars\u001b[0m \u001b[0;34m=\u001b[0m \u001b[0mint\u001b[0m\u001b[0;34m(\u001b[0m\u001b[0mdata\u001b[0m\u001b[0;34m[\u001b[0m\u001b[0;36m25\u001b[0m\u001b[0;34m]\u001b[0m\u001b[0;34m.\u001b[0m\u001b[0msplit\u001b[0m\u001b[0;34m(\u001b[0m\u001b[0;34m)\u001b[0m\u001b[0;34m[\u001b[0m\u001b[0;36m0\u001b[0m\u001b[0;34m]\u001b[0m\u001b[0;34m)\u001b[0m\u001b[0;34m\u001b[0m\u001b[0m\n\u001b[0m\u001b[1;32m     21\u001b[0m \u001b[0;34m\u001b[0m\u001b[0m\n\u001b[1;32m     22\u001b[0m \u001b[0mflat_data\u001b[0m \u001b[0;34m=\u001b[0m \u001b[0mclean_data\u001b[0m\u001b[0;34m(\u001b[0m\u001b[0mdata\u001b[0m\u001b[0;34m[\u001b[0m\u001b[0;36m26\u001b[0m\u001b[0;34m:\u001b[0m\u001b[0;34m]\u001b[0m\u001b[0;34m)\u001b[0m\u001b[0;34m\u001b[0m\u001b[0m\n",
        "\u001b[0;31mValueError\u001b[0m: invalid literal for int() with base 10: '1.21'"
       ]
      }
     ],
     "prompt_number": 3
    },
    {
     "cell_type": "code",
     "collapsed": false,
     "input": [
      "var_names"
     ],
     "language": "python",
     "metadata": {},
     "outputs": []
    },
    {
     "cell_type": "code",
     "collapsed": false,
     "input": [
      "num_particles = 4775\n",
      "\n",
      "y_velocities = np.array(data_vars)[1:3*num_particles:3]\n",
      "\n",
      "x_displacement = np.array(data_vars)[(3*num_particles):(3*num_particles)*2:3]\n",
      "y_displacement = np.array(data_vars)[(1+3*num_particles):(3*num_particles)*2:3]\n",
      "\n",
      "x_coordinates = data_vars[(3*num_particles)*2:(3*num_particles)*3:3]\n",
      "y_coordinates = data_vars[1+(3*num_particles)*2:(3*num_particles)*3:3]\n",
      "\n",
      "bool_array = y_velocities > 163.5e3\n",
      "first_movement_y = (bool_array.cumsum(axis=1).cumsum(axis=1) == 1)\n",
      "\n",
      "x_current = (x_coordinates + x_displacement).T\n",
      "y_current = (y_coordinates + y_displacement).T\n",
      "\n",
      "#Rows correspond to time step outputs: t1, t2, ..., tn\n",
      "#\n",
      "#Non -1, columns correspond to x,y current position at first movement\n",
      "x_current_first_movement = np.where(first_movement_y.T, x_current, -1)\n",
      "y_current_first_movement = np.where(first_movement_y.T, y_current, -1)\n",
      "\n",
      "x_postions_for_fit = [x_current_first_movement[i][x_current_first_movement[i] > 0] for i in range(len(time_steps))]\n",
      "y_postions_for_fit = [y_current_first_movement[i][y_current_first_movement[i] > 0] for i in range(len(time_steps))]\n",
      "\n",
      "\n"
     ],
     "language": "python",
     "metadata": {},
     "outputs": []
    },
    {
     "cell_type": "code",
     "collapsed": false,
     "input": [
      "def my_sine(x,a,c):\n",
      "    return a*np.sin(np.pi*x + np.arcsin(1.0))+c\n",
      "\n",
      "def my_curve_fit(x,y,_p0):\n",
      "   \n",
      "    try:\n",
      "        ans, err = scipy.optimize.curve_fit(my_sine, x, y, p0=_p0)\n",
      "            \n",
      "    except (RuntimeError, TypeError, NameError, ValueError):\n",
      "        ans = np.array([0.25, 0.25])\n",
      "        \n",
      "    return ans\n",
      "\n",
      "\n",
      "\n",
      "ans = np.array([my_curve_fit(x_postions_for_fit[i], y_postions_for_fit[i],_p0=[0.25, 0.25]) for i in range(len(time_steps))])"
     ],
     "language": "python",
     "metadata": {},
     "outputs": []
    },
    {
     "cell_type": "code",
     "collapsed": false,
     "input": [
      "#filter\n",
      "\n",
      "filter_frequency = 3e6;\n",
      "filter_input = filter_frequency*2*time_steps[1];\n",
      "b, a = signal.butter(4, filter_input, 'lowpass') \n",
      "\n",
      "\n",
      "amplitude_filtered = signal.filtfilt(b, a, ans[:,0])\n",
      "velocity_filtered = signal.filtfilt(b, a, ans[:,1])"
     ],
     "language": "python",
     "metadata": {},
     "outputs": []
    },
    {
     "cell_type": "code",
     "collapsed": false,
     "input": [
      "#plot amplitude against time (number of time steps)\n",
      "plt.plot(time_steps*10e6,amplitude_filtered,'k-',time_steps*10e6,ans[:,0]);"
     ],
     "language": "python",
     "metadata": {},
     "outputs": []
    },
    {
     "cell_type": "code",
     "collapsed": false,
     "input": [
      "#plot y-dir movement against time\n",
      "plt.plot(time_steps*10e6,velocity_filtered,'k-',time_steps*10e6,ans[:,1]);"
     ],
     "language": "python",
     "metadata": {},
     "outputs": []
    },
    {
     "cell_type": "code",
     "collapsed": false,
     "input": [
      "x=np.arange(0,2.1,0.1)\n",
      "curve_to_plot = [my_sine(x, amplitude_filtered[i], velocity_filtered[i]) for i in range(len(time_steps))]"
     ],
     "language": "python",
     "metadata": {},
     "outputs": []
    },
    {
     "cell_type": "code",
     "collapsed": false,
     "input": [
      "#Animation helper functions\n",
      "from tempfile import NamedTemporaryFile\n",
      "\n",
      "VIDEO_TAG = \"\"\"<video controls>\n",
      " <source src=\"data:video/x-m4v;base64,{0}\" type=\"video/mp4\">\n",
      " Your browser does not support the video tag.\n",
      "</video>\"\"\"\n",
      "\n",
      "def anim_to_html(anim):\n",
      "    if not hasattr(anim, '_encoded_video'):\n",
      "        with NamedTemporaryFile(suffix='.mp4') as f:\n",
      "            anim.save(f.name, fps=1, extra_args=['-vcodec', 'libx264', '-pix_fmt', 'yuv420p'])\n",
      "            video = open(f.name, \"rb\").read()\n",
      "        anim._encoded_video = video.encode(\"base64\")\n",
      "    \n",
      "    return VIDEO_TAG.format(anim._encoded_video)\n",
      "\n",
      "from IPython.display import HTML\n",
      "\n",
      "def display_animation(anim):\n",
      "    plt.close(anim._fig)\n",
      "    return HTML(anim_to_html(anim))\n",
      "\n",
      "\n",
      "#Animation\n",
      "from matplotlib import animation\n",
      "\n",
      "fig = plt.figure()\n",
      "ax = plt.axes(xlim=(0, 2.1), ylim=(0, 1.5))\n",
      "line1, = ax.plot([], [], lw=2)\n",
      "\n",
      "def init():\n",
      "    line1.set_data([], [])\n",
      "    return line1,\n",
      "    \n",
      "def animate(i):\n",
      "    line1.set_data(x, curve_to_plot[i])\n",
      "    return line1, \n",
      "\n",
      "anim  = animation.FuncAnimation(fig, animate, init_func=init,\n",
      "                               frames=len(time_steps), interval=5, blit=True)\n",
      "\n",
      "display_animation(anim)"
     ],
     "language": "python",
     "metadata": {},
     "outputs": []
    }
   ],
   "metadata": {}
  }
 ]
}